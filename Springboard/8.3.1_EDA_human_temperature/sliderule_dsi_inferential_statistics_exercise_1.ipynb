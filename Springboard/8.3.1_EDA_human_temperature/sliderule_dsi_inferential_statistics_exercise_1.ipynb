{
 "cells": [
  {
   "cell_type": "markdown",
   "metadata": {},
   "source": [
    "# What is the True Normal Human Body Temperature? \n",
    "\n",
    "#### Background\n",
    "\n",
    "The mean normal body temperature was held to be 37$^{\\circ}$C or 98.6$^{\\circ}$F for more than 120 years since it was first conceptualized and reported by Carl Wunderlich in a famous 1868 book. But, is this value statistically correct?"
   ]
  },
  {
   "cell_type": "markdown",
   "metadata": {},
   "source": [
    "<h3>Exercises</h3>\n",
    "\n",
    "<p>In this exercise, you will analyze a dataset of human body temperatures and employ the concepts of hypothesis testing, confidence intervals, and statistical significance.</p>\n",
    "\n",
    "<p>Answer the following questions <b>in this notebook below and submit to your Github account</b>.</p> \n",
    "\n",
    "<ol>\n",
    "<li>  Is the distribution of body temperatures normal? \n",
    "    <ul>\n",
    "    <li> Although this is not a requirement for the Central Limit Theorem to hold (read the introduction on Wikipedia's page about the CLT carefully: https://en.wikipedia.org/wiki/Central_limit_theorem), it gives us some peace of mind that the population may also be normally distributed if we assume that this sample is representative of the population.\n",
    "    <li> Think about the way you're going to check for the normality of the distribution. Graphical methods are usually used first, but there are also other ways: https://en.wikipedia.org/wiki/Normality_test\n",
    "    </ul>\n",
    "<li>  Is the sample size large? Are the observations independent?\n",
    "    <ul>\n",
    "    <li> Remember that this is a condition for the Central Limit Theorem, and hence the statistical tests we are using, to apply.\n",
    "    </ul>\n",
    "<li>  Is the true population mean really 98.6 degrees F?\n",
    "    <ul>\n",
    "    <li> First, try a bootstrap hypothesis test.\n",
    "    <li> Now, let's try frequentist statistical testing. Would you use a one-sample or two-sample test? Why?\n",
    "    <li> In this situation, is it appropriate to use the $t$ or $z$ statistic? \n",
    "    <li> Now try using the other test. How is the result be different? Why?\n",
    "    </ul>\n",
    "<li>  Draw a small sample of size 10 from the data and repeat both frequentist tests. \n",
    "    <ul>\n",
    "    <li> Which one is the correct one to use? \n",
    "    <li> What do you notice? What does this tell you about the difference in application of the $t$ and $z$ statistic?\n",
    "    </ul>\n",
    "<li>  At what temperature should we consider someone's temperature to be \"abnormal\"?\n",
    "    <ul>\n",
    "    <li> As in the previous example, try calculating everything using the boostrap approach, as well as the frequentist approach.\n",
    "    <li> Start by computing the margin of error and confidence interval. When calculating the confidence interval, keep in mind that you should use the appropriate formula for one draw, and not N draws.\n",
    "    </ul>\n",
    "<li>  Is there a significant difference between males and females in normal temperature?\n",
    "    <ul>\n",
    "    <li> What testing approach did you use and why?\n",
    "    <li> Write a story with your conclusion in the context of the original problem.\n",
    "    </ul>\n",
    "</ol>\n",
    "\n",
    "You can include written notes in notebook cells using Markdown: \n",
    "   - In the control panel at the top, choose Cell > Cell Type > Markdown\n",
    "   - Markdown syntax: http://nestacms.com/docs/creating-content/markdown-cheat-sheet\n",
    "\n",
    "#### Resources\n",
    "\n",
    "+ Information and data sources: http://www.amstat.org/publications/jse/datasets/normtemp.txt, http://www.amstat.org/publications/jse/jse_data_archive.htm\n",
    "+ Markdown syntax: http://nestacms.com/docs/creating-content/markdown-cheat-sheet\n",
    "\n",
    "****"
   ]
  },
  {
   "cell_type": "code",
   "execution_count": 1,
   "metadata": {},
   "outputs": [],
   "source": [
    "import pandas as pd\n",
    "import numpy as np\n",
    "import matplotlib.pyplot as plt\n",
    "from scipy import stats\n",
    "import seaborn as sns\n",
    "df = pd.read_csv('data/human_body_temperature.csv')"
   ]
  },
  {
   "cell_type": "code",
   "execution_count": 2,
   "metadata": {},
   "outputs": [
    {
     "data": {
      "text/html": [
       "<div>\n",
       "<style scoped>\n",
       "    .dataframe tbody tr th:only-of-type {\n",
       "        vertical-align: middle;\n",
       "    }\n",
       "\n",
       "    .dataframe tbody tr th {\n",
       "        vertical-align: top;\n",
       "    }\n",
       "\n",
       "    .dataframe thead th {\n",
       "        text-align: right;\n",
       "    }\n",
       "</style>\n",
       "<table border=\"1\" class=\"dataframe\">\n",
       "  <thead>\n",
       "    <tr style=\"text-align: right;\">\n",
       "      <th></th>\n",
       "      <th>temperature</th>\n",
       "      <th>gender</th>\n",
       "      <th>heart_rate</th>\n",
       "    </tr>\n",
       "  </thead>\n",
       "  <tbody>\n",
       "    <tr>\n",
       "      <th>0</th>\n",
       "      <td>99.3</td>\n",
       "      <td>F</td>\n",
       "      <td>68.0</td>\n",
       "    </tr>\n",
       "    <tr>\n",
       "      <th>1</th>\n",
       "      <td>98.4</td>\n",
       "      <td>F</td>\n",
       "      <td>81.0</td>\n",
       "    </tr>\n",
       "    <tr>\n",
       "      <th>2</th>\n",
       "      <td>97.8</td>\n",
       "      <td>M</td>\n",
       "      <td>73.0</td>\n",
       "    </tr>\n",
       "    <tr>\n",
       "      <th>3</th>\n",
       "      <td>99.2</td>\n",
       "      <td>F</td>\n",
       "      <td>66.0</td>\n",
       "    </tr>\n",
       "    <tr>\n",
       "      <th>4</th>\n",
       "      <td>98.0</td>\n",
       "      <td>F</td>\n",
       "      <td>73.0</td>\n",
       "    </tr>\n",
       "  </tbody>\n",
       "</table>\n",
       "</div>"
      ],
      "text/plain": [
       "   temperature gender  heart_rate\n",
       "0         99.3      F        68.0\n",
       "1         98.4      F        81.0\n",
       "2         97.8      M        73.0\n",
       "3         99.2      F        66.0\n",
       "4         98.0      F        73.0"
      ]
     },
     "execution_count": 2,
     "metadata": {},
     "output_type": "execute_result"
    }
   ],
   "source": [
    "df.head()"
   ]
  },
  {
   "cell_type": "code",
   "execution_count": 3,
   "metadata": {},
   "outputs": [
    {
     "data": {
      "text/html": [
       "<div>\n",
       "<style scoped>\n",
       "    .dataframe tbody tr th:only-of-type {\n",
       "        vertical-align: middle;\n",
       "    }\n",
       "\n",
       "    .dataframe tbody tr th {\n",
       "        vertical-align: top;\n",
       "    }\n",
       "\n",
       "    .dataframe thead th {\n",
       "        text-align: right;\n",
       "    }\n",
       "</style>\n",
       "<table border=\"1\" class=\"dataframe\">\n",
       "  <thead>\n",
       "    <tr style=\"text-align: right;\">\n",
       "      <th></th>\n",
       "      <th>temperature</th>\n",
       "      <th>heart_rate</th>\n",
       "    </tr>\n",
       "  </thead>\n",
       "  <tbody>\n",
       "    <tr>\n",
       "      <th>count</th>\n",
       "      <td>130.000000</td>\n",
       "      <td>130.000000</td>\n",
       "    </tr>\n",
       "    <tr>\n",
       "      <th>mean</th>\n",
       "      <td>98.249231</td>\n",
       "      <td>73.761538</td>\n",
       "    </tr>\n",
       "    <tr>\n",
       "      <th>std</th>\n",
       "      <td>0.733183</td>\n",
       "      <td>7.062077</td>\n",
       "    </tr>\n",
       "    <tr>\n",
       "      <th>min</th>\n",
       "      <td>96.300000</td>\n",
       "      <td>57.000000</td>\n",
       "    </tr>\n",
       "    <tr>\n",
       "      <th>25%</th>\n",
       "      <td>97.800000</td>\n",
       "      <td>69.000000</td>\n",
       "    </tr>\n",
       "    <tr>\n",
       "      <th>50%</th>\n",
       "      <td>98.300000</td>\n",
       "      <td>74.000000</td>\n",
       "    </tr>\n",
       "    <tr>\n",
       "      <th>75%</th>\n",
       "      <td>98.700000</td>\n",
       "      <td>79.000000</td>\n",
       "    </tr>\n",
       "    <tr>\n",
       "      <th>max</th>\n",
       "      <td>100.800000</td>\n",
       "      <td>89.000000</td>\n",
       "    </tr>\n",
       "  </tbody>\n",
       "</table>\n",
       "</div>"
      ],
      "text/plain": [
       "       temperature  heart_rate\n",
       "count   130.000000  130.000000\n",
       "mean     98.249231   73.761538\n",
       "std       0.733183    7.062077\n",
       "min      96.300000   57.000000\n",
       "25%      97.800000   69.000000\n",
       "50%      98.300000   74.000000\n",
       "75%      98.700000   79.000000\n",
       "max     100.800000   89.000000"
      ]
     },
     "execution_count": 3,
     "metadata": {},
     "output_type": "execute_result"
    }
   ],
   "source": [
    "df.describe()"
   ]
  },
  {
   "cell_type": "markdown",
   "metadata": {},
   "source": [
    "### 1. Is the distribution of body temperatures normal?"
   ]
  },
  {
   "cell_type": "markdown",
   "metadata": {},
   "source": [
    "A normal distribution looks like the below using the mean and standard deviation of the temperature data (using sampling Numpy normal function)."
   ]
  },
  {
   "cell_type": "code",
   "execution_count": 4,
   "metadata": {},
   "outputs": [
    {
     "data": {
      "image/png": "[encoded data removed]",
      "text/plain": [
       "<Figure size 432x288 with 1 Axes>"
      ]
     },
     "metadata": {
      "needs_background": "light"
     },
     "output_type": "display_data"
    }
   ],
   "source": [
    "def plot_hist_normal(data, mean, std):\n",
    "    count, bins, ignored = plt.hist(data, 50, density=True)\n",
    "    plt.plot(bins, 1/(std * np.sqrt(2 * np.pi)) * np.exp( - (bins - mean)**2 / (2 * std**2) ),\n",
    "          linewidth=1, color='r')\n",
    "np.random.seed(4678)\n",
    "mu, sigma = np.mean(df.temperature), np.std(df.temperature) # mean and standard deviation\n",
    "s = np.random.normal(mu, sigma, 10000)\n",
    "plot_hist_normal(s, mu, sigma)\n",
    "plt.show()"
   ]
  },
  {
   "cell_type": "markdown",
   "metadata": {},
   "source": [
    "Graphing the temperature data shows the below."
   ]
  },
  {
   "cell_type": "code",
   "execution_count": 5,
   "metadata": {},
   "outputs": [
    {
     "data": {
      "image/png": "[encoded data removed]",
      "text/plain": [
       "<Figure size 432x288 with 1 Axes>"
      ]
     },
     "metadata": {
      "needs_background": "light"
     },
     "output_type": "display_data"
    }
   ],
   "source": [
    "# See how the distribution would look if\n",
    "mu, sigma = np.mean(df.temperature), np.std(df.temperature) # mean and standard deviation\n",
    "plot_hist_normal(df.temperature, mu, sigma)\n",
    "plt.show()"
   ]
  },
  {
   "cell_type": "markdown",
   "metadata": {},
   "source": [
    "The sample size is too small for it to be certain it is normal. So lets compare quantiles."
   ]
  },
  {
   "cell_type": "code",
   "execution_count": 6,
   "metadata": {},
   "outputs": [
    {
     "name": "stdout",
     "output_type": "stream",
     "text": [
      "[97.31040642 97.63605811 97.87685483 98.08261627 98.26372188 98.43559224\n",
      " 98.6238563  98.84519706 99.17662082] [97.29 97.7  97.9  98.1  98.3  98.44 98.63 98.8  99.1 ] [-0.02040642  0.06394189  0.02314517  0.01738373  0.03627812  0.00440776\n",
      "  0.0061437  -0.04519706 -0.07662082]\n"
     ]
    }
   ],
   "source": [
    "# The quantiles of the normal sample.\n",
    "lst_quantiles = np.arange(10, 100, step=10)\n",
    "lst_norm_quant = np.percentile(s, lst_quantiles)\n",
    "lst_data_quant = np.percentile(df.temperature, lst_quantiles)\n",
    "lst_diff_quant = lst_data_quant - lst_norm_quant\n",
    "print(lst_norm_quant, lst_data_quant, lst_diff_quant)"
   ]
  },
  {
   "cell_type": "code",
   "execution_count": 7,
   "metadata": {},
   "outputs": [
    {
     "data": {
      "image/png": "[encoded data removed]",
      "text/plain": [
       "<Figure size 432x288 with 1 Axes>"
      ]
     },
     "metadata": {
      "needs_background": "light"
     },
     "output_type": "display_data"
    }
   ],
   "source": [
    "_ = plt.plot(lst_data_quant, lst_norm_quant, marker='.', linestyle='none', color='blue')\n",
    "_ = plt.plot(lst_norm_quant, lst_norm_quant, color='red')\n",
    "_ = plt.xlabel('Temperature Data')\n",
    "_ = plt.ylabel('Normal Data')\n",
    "plt.show()"
   ]
  },
  {
   "cell_type": "markdown",
   "metadata": {},
   "source": [
    "Based on graphing the quantiles, the data does look approximately normal.\n",
    "Let's run some frequentist tests."
   ]
  },
  {
   "cell_type": "code",
   "execution_count": 8,
   "metadata": {},
   "outputs": [
    {
     "name": "stdout",
     "output_type": "stream",
     "text": [
      "Under the Shapiro-Wilk test, sample looks normal (fail to reject H0)\n",
      "Under the DAgostino-Pearson test, sample looks normal (fail to reject H0)\n",
      "The Anderson-Darling Test statistic: 0.520\n",
      "15.000: 0.560, data looks normal (fail to reject H0)\n",
      "10.000: 0.637, data looks normal (fail to reject H0)\n",
      "5.000: 0.765, data looks normal (fail to reject H0)\n",
      "2.500: 0.892, data looks normal (fail to reject H0)\n",
      "1.000: 1.061, data looks normal (fail to reject H0)\n"
     ]
    }
   ],
   "source": [
    "dct_freq_p = {}\n",
    "alpha = 0.05 # Significance level.\n",
    "\n",
    "# Shapiro-Wilk Test\n",
    "test_stat, dct_freq_p[\"Shapiro-Wilk\"] = stats.shapiro(df.temperature)\n",
    "# D’Agostino’s K^2 Test\n",
    "test_stat, dct_freq_p[\"DAgostino-Pearson\"] = stats.normaltest(df.temperature)\n",
    "for test, p in dct_freq_p.items():\n",
    "    if p > alpha:\n",
    "        print('Under the %s test, sample looks normal (fail to reject H0)' % (test))\n",
    "    else:\n",
    "        print('Under the %s test, sample does not look normal (reject H0)' % (test))\n",
    "    \n",
    "# Anderson-Darling Test\n",
    "result = stats.anderson(df.temperature)\n",
    "print('The Anderson-Darling Test statistic: %.3f' % result.statistic)\n",
    "p = 0\n",
    "for i in range(len(result.critical_values)):\n",
    "    sl, cv = result.significance_level[i], result.critical_values[i]\n",
    "    if result.statistic < result.critical_values[i]:\n",
    "        print('%.3f: %.3f, data looks normal (fail to reject H0)' % (sl, cv))\n",
    "    else:\n",
    "        print('%.3f: %.3f, data does not look normal (reject H0)' % (sl, cv))\n",
    "#dct_freq_p"
   ]
  },
  {
   "cell_type": "markdown",
   "metadata": {},
   "source": [
    "#### The data according to graphical and frequentist test is normal."
   ]
  },
  {
   "cell_type": "markdown",
   "metadata": {},
   "source": [
    "### 2. Is the sample size large? Are the observations independent?"
   ]
  },
  {
   "cell_type": "markdown",
   "metadata": {},
   "source": [
    "There are 130 observations within the dataset.\n",
    "There are enough observations based on the central limit theorem's general rule of a sample size at least 30 observations.\n",
    "Each observation is independent, since it would require a re-measurement of the individual's temperature. \n",
    "Even if it was the same indidual, it would be independent of the previous measurement. "
   ]
  },
  {
   "cell_type": "markdown",
   "metadata": {},
   "source": [
    "### 3. Is the true population mean really 98.6 degrees F?\n",
    "#### Bootstrap Hypothesis Test\n",
    "**Null hypothesis: Human body temperature is 98.6 degrees F.**\n",
    "\n",
    "*Temp == 98.6\n",
    "\n",
    "**Alternate hypothesis: Human body temperature is NOT 98.6 degree F.**\n",
    "\n",
    "*Temp != 98.6*\n",
    "\n",
    "*Alpha == 0.05*"
   ]
  },
  {
   "cell_type": "code",
   "execution_count": 9,
   "metadata": {},
   "outputs": [],
   "source": [
    "def bootstrap_replicate(data, func):\n",
    "    return func(np.random.choice(data, size=len(data)))\n",
    "\n",
    "def draw_bs_reps(data, func, size=1):\n",
    "    \"\"\"Draw bootstrap replicates.\"\"\"\n",
    "    # Initialize array of replicates: bs_replicates\n",
    "    bs_replicates = np.empty(size)\n",
    "\n",
    "    # Generate replicates\n",
    "    for i in range(size):\n",
    "        bs_replicates[i] = bootstrap_replicate(data, func)\n",
    "\n",
    "    return bs_replicates\n",
    "\n",
    "# Create calculation function\n",
    "def diff_from_accepted(data, accepted=98.6):\n",
    "    '''Calculate the difference of the mean from the accepted value.'''\n",
    "    \n",
    "    return np.mean(data) - accepted\n",
    "\n",
    "def p_value_results(p_val, alpha_val):\n",
    "    print('The p-value is %s.' % p_val)\n",
    "    if p_value >= alpha:\n",
    "        print('The p-value is greater (or equal to) than the level of significance (%f).' % alpha_val)\n",
    "        print('That means we can not reject the null hypothesis.')\n",
    "    else:\n",
    "        print('The p-value is less than the level of significance (%f).' % alpha_val)\n",
    "        print('That means we should reject the null hypothesis.')"
   ]
  },
  {
   "cell_type": "code",
   "execution_count": 10,
   "metadata": {},
   "outputs": [
    {
     "name": "stdout",
     "output_type": "stream",
     "text": [
      "The difference in means from observed and accepted value is -0.35076923076921673\n",
      "The p-value is 0.0.\n",
      "The p-value is less than the level of significance (0.050000).\n",
      "That means we should reject the null hypothesis.\n"
     ]
    },
    {
     "data": {
      "image/png": "[encoded data removed]",
      "text/plain": [
       "<Figure size 432x288 with 1 Axes>"
      ]
     },
     "metadata": {
      "needs_background": "light"
     },
     "output_type": "display_data"
    }
   ],
   "source": [
    "temp_accepted = 98.6\n",
    "temp_orig = df.temperature\n",
    "temp_shift = temp_orig - np.mean(s) + temp_accepted\n",
    "\n",
    "diff_observed = diff_from_accepted(temp_orig, temp_accepted)\n",
    "print('The difference in means from observed and accepted value is %s' % diff_observed)\n",
    "# Use the shifted data since that reflects the null hypothesis.\n",
    "bs_temps = draw_bs_reps(temp_shift, diff_from_accepted, 10000)\n",
    "p_value = np.sum(bs_temps <= diff_observed) / len(bs_temps)\n",
    "\n",
    "# Plot it graphically.\n",
    "count, bins, ignored = plt.hist(bs_temps)\n",
    "_ = plt.plot([diff_observed, diff_observed], [0, 3000], linewidth=1, color='r')\n",
    "_ = plt.xlabel('Diff from Accepted')\n",
    "_ = plt.ylabel('Frequency')\n",
    "plt.show\n",
    "\n",
    "p_value_results(p_value, alpha)"
   ]
  },
  {
   "cell_type": "markdown",
   "metadata": {},
   "source": [
    "Based on the above, we should reject the null hypothesis.\n",
    "Let's do a frequentist test. The hypotheses are the same as above.\n",
    "Since the standard deviation of the population is not known, a t-test statistic is appropriate."
   ]
  },
  {
   "cell_type": "code",
   "execution_count": 11,
   "metadata": {},
   "outputs": [
    {
     "name": "stdout",
     "output_type": "stream",
     "text": [
      "The p-value is 2.4106320415561276e-07.\n",
      "The p-value is less than the level of significance (0.050000).\n",
      "That means we should reject the null hypothesis.\n"
     ]
    }
   ],
   "source": [
    "# Calculate the two tailed test t-test value.\n",
    "t_test, p_value = stats.ttest_1samp(df.temperature, temp_accepted)\n",
    "p_value_results(p_value, alpha)"
   ]
  },
  {
   "cell_type": "markdown",
   "metadata": {},
   "source": [
    "As requested, calculate the two tailed z-test statistic."
   ]
  },
  {
   "cell_type": "code",
   "execution_count": 12,
   "metadata": {},
   "outputs": [
    {
     "name": "stdout",
     "output_type": "stream",
     "text": [
      "The p-value is 4.3523151658821886e-08.\n",
      "The p-value is less than the level of significance (0.050000).\n",
      "That means we should reject the null hypothesis.\n"
     ]
    }
   ],
   "source": [
    "# Calculate the z-test value, using the sample standard deviation as a proxy.\n",
    "z_test = (np.mean(df.temperature) - temp_accepted) / \\\n",
    "        (np.std(df.temperature) / np.sqrt(len(df.temperature)))\n",
    "p_value = stats.norm.cdf(z_test) * 2\n",
    "p_value_results(p_value, alpha)"
   ]
  },
  {
   "cell_type": "markdown",
   "metadata": {},
   "source": [
    "The p_values are different given that the distributions are different but the results of the accepted value still place it outside the distribution generated by the observed sample."
   ]
  },
  {
   "cell_type": "markdown",
   "metadata": {},
   "source": [
    "#### 4. Draw a small sample of size 10 from the data and repeat both frequentist tests."
   ]
  },
  {
   "cell_type": "code",
   "execution_count": 13,
   "metadata": {},
   "outputs": [
    {
     "name": "stdout",
     "output_type": "stream",
     "text": [
      "The p-value is 0.1609782639781601.\n",
      "The p-value is greater (or equal to) than the level of significance (0.050000).\n",
      "That means we can not reject the null hypothesis.\n"
     ]
    }
   ],
   "source": [
    "temp_small = np.random.choice(df.temperature, size=10)\n",
    "\n",
    "# Calculate the two tailed test t-test value.\n",
    "t_test, p_value = stats.ttest_1samp(temp_small, temp_accepted)\n",
    "p_value_results(p_value, alpha)"
   ]
  },
  {
   "cell_type": "code",
   "execution_count": 14,
   "metadata": {},
   "outputs": [
    {
     "name": "stdout",
     "output_type": "stream",
     "text": [
      "The p-value is 0.12966663158958022.\n",
      "The p-value is greater (or equal to) than the level of significance (0.050000).\n",
      "That means we can not reject the null hypothesis.\n"
     ]
    }
   ],
   "source": [
    "# Calculate the z-test value, using the larger sample's standard deviation as a proxy.\n",
    "z_test = (np.mean(temp_small) - temp_accepted) / \\\n",
    "        (np.std(df.temperature) / np.sqrt(len(temp_small)))\n",
    "p_value = stats.norm.cdf(z_test) * 2\n",
    "p_value_results(p_value, alpha)"
   ]
  },
  {
   "cell_type": "markdown",
   "metadata": {},
   "source": [
    "The impact of having less observations decreases the amount of accuracy expected from the standard deviation. So the result becomes much more conservative."
   ]
  },
  {
   "cell_type": "markdown",
   "metadata": {},
   "source": [
    "#### 5. At what temperature should we consider someone's temperature to be \"abnormal\"?\n",
    "\n",
    "Using the bootstrap method, and the original observations, let's find out what is the distribution of the lower and upper quantiles."
   ]
  },
  {
   "cell_type": "code",
   "execution_count": 15,
   "metadata": {},
   "outputs": [
    {
     "data": {
      "text/plain": [
       "<function matplotlib.pyplot.show(*args, **kw)>"
      ]
     },
     "execution_count": 15,
     "metadata": {},
     "output_type": "execute_result"
    },
    {
     "data": {
      "image/png": "[encoded data removed]",
      "text/plain": [
       "<Figure size 432x288 with 1 Axes>"
      ]
     },
     "metadata": {
      "needs_background": "light"
     },
     "output_type": "display_data"
    }
   ],
   "source": [
    "def lower_quant(data):\n",
    "    '''Find the lower percentile, specifically 2.5.'''\n",
    "    return np.percentile(data, 2.5)\n",
    "def upper_quant(data):\n",
    "    '''Find the upper percentile, specifically 97.5.'''\n",
    "    return np.percentile(data, 97.5)\n",
    "\n",
    "# Create a set of distributions to find a what the average lower (2.5%) and upper (97.5) quantiles\n",
    "bs_lower_quant = draw_bs_reps(temp_orig, lower_quant, 10000)\n",
    "bs_upper_quant = draw_bs_reps(temp_orig, upper_quant, 10000)\n",
    "lower_quant_obs = lower_quant(df.temperature)\n",
    "upper_quant_obs = upper_quant(df.temperature)\n",
    "# Plot it graphically.\n",
    "count, bins, ignored = plt.hist(bs_lower_quant, alpha=0.2, color='blue')\n",
    "count, bins, ignored = plt.hist(bs_upper_quant, alpha=0.2, color='red')\n",
    "_ = plt.plot([lower_quant_obs, lower_quant_obs], [0, 5000], linewidth=1, color='blue')\n",
    "_ = plt.plot([upper_quant_obs, upper_quant_obs], [0, 5000], linewidth=1, color='red')\n",
    "_ = plt.xlabel('Temperature')\n",
    "_ = plt.ylabel('Frequency')\n",
    "plt.show\n",
    "\n"
   ]
  },
  {
   "cell_type": "markdown",
   "metadata": {},
   "source": [
    "Given warm-blooded organisms require a steady temperature, and our level of significance is 5%, then anything outside of the 2.5% tails should be considered abnormal. Creating replicates of our distribution many times and then calculating the average of the 2.5% tails (the extremes) should be considered abnormal."
   ]
  },
  {
   "cell_type": "code",
   "execution_count": 16,
   "metadata": {},
   "outputs": [
    {
     "name": "stdout",
     "output_type": "stream",
     "text": [
      "That means anything between 96.77 and 99.58 should be considered abnormal.\n"
     ]
    }
   ],
   "source": [
    "print('That means anything between %0.2f and %0.2f should be considered abnormal.' % \n",
    "      (np.mean(bs_lower_quant), np.mean(bs_upper_quant)))"
   ]
  },
  {
   "cell_type": "code",
   "execution_count": 17,
   "metadata": {},
   "outputs": [
    {
     "name": "stdout",
     "output_type": "stream",
     "text": [
      "Margin of error:  0.126.\n",
      "Confidence interval of the original data is:  96.722 to 99.478.\n"
     ]
    }
   ],
   "source": [
    "# Calculate the margin of error.\n",
    "z_score = stats.norm.ppf(.975)\n",
    "margin_of_error = z_score * np.std(df.temperature) / np.sqrt(len(df.temperature))\n",
    "\n",
    "print('Margin of error:  %0.3f.' % margin_of_error)\n",
    "print('Confidence interval of the original data is:  %0.3f to %0.3f.' % \n",
    "      (lower_quant_obs, upper_quant_obs))"
   ]
  },
  {
   "cell_type": "markdown",
   "metadata": {},
   "source": [
    "#### 6. Is there a significant difference between males and females in normal temperature?\n",
    "\n",
    "The proper test for this is a two sample t-test for a difference in means.\n",
    "The hypotheses and level of significance is:\n",
    "**Null hypothesis: Female normal temperature is equal to male normal temperature.**\n",
    "\n",
    "*Female Temp == Male Temp*\n",
    "\n",
    "**Alternate hypothesis: Female normal temperature is NOT equal to male normal temperature.**\n",
    "\n",
    "*Female Temp != Male Temp*\n",
    "\n",
    "*Alpha == 0.05*"
   ]
  },
  {
   "cell_type": "code",
   "execution_count": 18,
   "metadata": {},
   "outputs": [
    {
     "name": "stdout",
     "output_type": "stream",
     "text": [
      "The p-value is 0.023938264182934196.\n",
      "The p-value is less than the level of significance (0.025000).\n",
      "That means we should reject the null hypothesis.\n"
     ]
    }
   ],
   "source": [
    "## Calculate the t test statistic\n",
    "temp_female = df[df['gender'] == 'F']['temperature']\n",
    "temp_male = df[df['gender'] == 'M']['temperature']\n",
    "std_female = np.std(temp_female, ddof=1)\n",
    "std_male = np.std(temp_male, ddof=1)\n",
    "mean_diff = np.mean(temp_female) - np.mean(temp_male)\n",
    "t_test, p_value = stats.ttest_ind(temp_female, temp_male, equal_var=False)\n",
    "\n",
    "p_value_results(p_value, alpha/2)"
   ]
  },
  {
   "cell_type": "markdown",
   "metadata": {},
   "source": [
    "Based on the p_value obtained from the two tailed t test statistic, the difference in means would fall outside of the confidence interval, and that means we should **reject** the null hypothesis at this time."
   ]
  },
  {
   "cell_type": "code",
   "execution_count": null,
   "metadata": {},
   "outputs": [],
   "source": []
  },
  {
   "cell_type": "code",
   "execution_count": null,
   "metadata": {},
   "outputs": [],
   "source": []
  },
  {
   "cell_type": "code",
   "execution_count": null,
   "metadata": {},
   "outputs": [],
   "source": []
  }
 ],
 "metadata": {
  "kernelspec": {
   "display_name": "Python 3",
   "language": "python",
   "name": "python3"
  },
  "language_info": {
   "codemirror_mode": {
    "name": "ipython",
    "version": 3
   },
   "file_extension": ".py",
   "mimetype": "text/x-python",
   "name": "python",
   "nbconvert_exporter": "python",
   "pygments_lexer": "ipython3",
   "version": "3.7.1"
  }
 },
 "nbformat": 4,
 "nbformat_minor": 1
}
