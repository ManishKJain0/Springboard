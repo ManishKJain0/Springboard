{
 "cells": [
  {
   "cell_type": "markdown",
   "metadata": {},
   "source": [
    "This exercise will require you to pull some data from the Qunadl API. Qaundl is currently the most widely used aggregator of financial market data."
   ]
  },
  {
   "cell_type": "markdown",
   "metadata": {},
   "source": [
    "As a first step, you will need to register a free account on the http://www.quandl.com website."
   ]
  },
  {
   "cell_type": "markdown",
   "metadata": {},
   "source": [
    "After you register, you will be provided with a unique API key, that you should store:"
   ]
  },
  {
   "cell_type": "code",
   "execution_count": 1,
   "metadata": {
    "collapsed": true
   },
   "outputs": [],
   "source": [
    "# Store the API key as a string - according to PEP8, constants are always named in all upper case\n",
    "API_KEY = ''"
   ]
  },
  {
   "cell_type": "markdown",
   "metadata": {},
   "source": [
    "Qaundl has a large number of data sources, but, unfortunately, most of them require a Premium subscription. Still, there are also a good number of free datasets."
   ]
  },
  {
   "cell_type": "markdown",
   "metadata": {},
   "source": [
    "For this mini project, we will focus on equities data from the Frankfurt Stock Exhange (FSE), which is available for free. We'll try and analyze the stock prices of a company called Carl Zeiss Meditec, which manufactures tools for eye examinations, as well as medical lasers for laser eye surgery: https://www.zeiss.com/meditec/int/home.html. The company is listed under the stock ticker AFX_X."
   ]
  },
  {
   "cell_type": "markdown",
   "metadata": {},
   "source": [
    "You can find the detailed Quandl API instructions here: https://docs.quandl.com/docs/time-series"
   ]
  },
  {
   "cell_type": "markdown",
   "metadata": {},
   "source": [
    "While there is a dedicated Python package for connecting to the Quandl API, we would prefer that you use the *requests* package, which can be easily downloaded using *pip* or *conda*. You can find the documentation for the package here: http://docs.python-requests.org/en/master/ "
   ]
  },
  {
   "cell_type": "markdown",
   "metadata": {},
   "source": [
    "Finally, apart from the *requests* package, you are encouraged to not use any third party Python packages, such as *pandas*, and instead focus on what's available in the Python Standard Library (the *collections* module might come in handy: https://pymotw.com/3/collections/).\n",
    "Also, since you won't have access to DataFrames, you are encouraged to us Python's native data structures - preferably dictionaries, though some questions can also be answered using lists.\n",
    "You can read more on these data structures here: https://docs.python.org/3/tutorial/datastructures.html"
   ]
  },
  {
   "cell_type": "markdown",
   "metadata": {},
   "source": [
    "Keep in mind that the JSON responses you will be getting from the API map almost one-to-one to Python's dictionaries. Unfortunately, they can be very nested, so make sure you read up on indexing dictionaries in the documentation provided above."
   ]
  },
  {
   "cell_type": "code",
   "execution_count": 2,
   "metadata": {
    "collapsed": true
   },
   "outputs": [],
   "source": [
    "# First, import the relevant modules\n",
    "import requests\n",
    "import json"
   ]
  },
  {
   "cell_type": "code",
   "execution_count": 3,
   "metadata": {},
   "outputs": [
    {
     "data": {
      "text/plain": [
       "'{\"dataset\":{\"id\":10095370,\"dataset_code\":\"AFX_X\",\"database_code\":\"FSE\",\"name\":\"Carl Zeiss Meditec (AFX_X)\",\"description\":\"Stock Prices for Carl Zeiss Meditec (AFX) from the Frankfurt Stock Exchange.\\\\u003cbr\\\\u003e\\\\u003cbr\\\\u003eTrading System: Xetra\\\\u003cbr\\\\u003e\\\\u003cbr\\\\u003eISIN: DE0005313704\",\"refreshed_at\":\"2019-01-25T22:30:14.503Z\",\"newest_available_date\":\"2019-01-25\",\"oldest_available_date\":\"2000-06-07\",\"column_names\":[\"Date\",\"Open\",\"High\",\"Low\",\"Close\",\"Change\",\"Traded Volume\",\"Turnover\",\"Last Price of the Day\",\"Daily Traded Units\",\"Daily Turnover\"],\"frequency\":\"daily\",\"type\":\"Time Series\",\"premium\":false,\"limit\":null,\"transform\":null,\"column_index\":null,\"start_date\":\"2019-01-04\",\"end_date\":\"2019-01-04\",\"data\":[[\"2019-01-04\",null,71.0,68.8,70.75,null,null,null,null,null,null]],\"collapse\":null,\"order\":null,\"database_id\":6129}}'"
      ]
     },
     "execution_count": 3,
     "metadata": {},
     "output_type": "execute_result"
    }
   ],
   "source": [
    "# Now, call the Quandl API and pull out a small sample of the data (only one day) to get a glimpse\n",
    "# into the JSON structure that will be returned\n",
    "strrequesturl = \"https://www.quandl.com/api/v3/datasets/FSE/AFX_X.json?start_date=2019-01-04&end_date=2019-01-04\"\n",
    "strrequesturl += \"&api_key=\" + API_KEY\n",
    "r = requests.get(strrequesturl)\n",
    "r.text"
   ]
  },
  {
   "cell_type": "code",
   "execution_count": 4,
   "metadata": {},
   "outputs": [
    {
     "data": {
      "text/plain": [
       "{'collapse': None,\n",
       " 'column_index': None,\n",
       " 'column_names': ['Date',\n",
       "  'Open',\n",
       "  'High',\n",
       "  'Low',\n",
       "  'Close',\n",
       "  'Change',\n",
       "  'Traded Volume',\n",
       "  'Turnover',\n",
       "  'Last Price of the Day',\n",
       "  'Daily Traded Units',\n",
       "  'Daily Turnover'],\n",
       " 'data': [['2019-01-04',\n",
       "   None,\n",
       "   71.0,\n",
       "   68.8,\n",
       "   70.75,\n",
       "   None,\n",
       "   None,\n",
       "   None,\n",
       "   None,\n",
       "   None,\n",
       "   None]],\n",
       " 'database_code': 'FSE',\n",
       " 'database_id': 6129,\n",
       " 'dataset_code': 'AFX_X',\n",
       " 'description': 'Stock Prices for Carl Zeiss Meditec (AFX) from the Frankfurt Stock Exchange.<br><br>Trading System: Xetra<br><br>ISIN: DE0005313704',\n",
       " 'end_date': '2019-01-04',\n",
       " 'frequency': 'daily',\n",
       " 'id': 10095370,\n",
       " 'limit': None,\n",
       " 'name': 'Carl Zeiss Meditec (AFX_X)',\n",
       " 'newest_available_date': '2019-01-25',\n",
       " 'oldest_available_date': '2000-06-07',\n",
       " 'order': None,\n",
       " 'premium': False,\n",
       " 'refreshed_at': '2019-01-25T22:30:14.503Z',\n",
       " 'start_date': '2019-01-04',\n",
       " 'transform': None,\n",
       " 'type': 'Time Series'}"
      ]
     },
     "execution_count": 4,
     "metadata": {},
     "output_type": "execute_result"
    }
   ],
   "source": [
    "# Inspect the JSON structure of the object you created, and take note of how nested it is,\n",
    "# as well as the overall structure\n",
    "dctstock_data = json.loads(r.text)[\"dataset\"]\n",
    "dctstock_data"
   ]
  },
  {
   "cell_type": "markdown",
   "metadata": {},
   "source": [
    "These are your tasks for this mini project:\n",
    "\n",
    "1. Collect data from the Franfurt Stock Exchange, for the ticker AFX_X, for the whole year 2017 (keep in mind that the date format is YYYY-MM-DD).\n",
    "2. Convert the returned JSON object into a Python dictionary.\n",
    "3. Calculate what the highest and lowest opening prices were for the stock in this period.\n",
    "4. What was the largest change in any one day (based on High and Low price)?\n",
    "5. What was the largest change between any two days (based on Closing Price)?\n",
    "6. What was the average daily trading volume during this year?\n",
    "7. (Optional) What was the median trading volume during this year. (Note: you may need to implement your own function for calculating the median.)"
   ]
  },
  {
   "cell_type": "code",
   "execution_count": 5,
   "metadata": {
    "collapsed": true
   },
   "outputs": [],
   "source": [
    "# 1. Collect data from the Franfurt Stock Exchange, for the ticker AFX_X, for the whole year 2017 \n",
    "# Send request to Quandl to request annual set of data\n",
    "strdate_start = \"&start_date=2017-01-01\"\n",
    "strdate_end = \"&end_date=2017-12-31\"\n",
    "strrequesturl = \"https://www.quandl.com/api/v3/datasets/FSE/AFX_X.json?\" + strdate_start + strdate_end\n",
    "strrequesturl += \"&api_key=\" + API_KEY\n",
    "r = requests.get(strrequesturl)"
   ]
  },
  {
   "cell_type": "code",
   "execution_count": 6,
   "metadata": {},
   "outputs": [],
   "source": [
    "# 2. Convert the returned JSON object into a Python dictionary.\n",
    "dctstock_data = json.loads(r.text)[\"dataset\"]\n",
    "lststock_cols = dctstock_data[\"column_names\"]\n",
    "lststock_prices = dctstock_data[\"data\"]"
   ]
  },
  {
   "cell_type": "code",
   "execution_count": 7,
   "metadata": {},
   "outputs": [
    {
     "name": "stdout",
     "output_type": "stream",
     "text": [
      "For 2017, the lowest open price is 34.0 and the highest open price is 53.11.\n"
     ]
    }
   ],
   "source": [
    "# 3. Calculate what the highest and lowest opening prices were for the stock in this period.\n",
    "# Loop through the dates, checking if is float because for some reason, checking if not None still caused an None error later on.\n",
    "lstprices_open = [lstdate[1] for lstdate in lststock_prices if isinstance(lstdate[1], float)]\n",
    "# Use min and max functions to get the lowest and highest open prices.\n",
    "fltprice_open_low = min(lstprices_open)\n",
    "fltprice_open_high = max(lstprices_open)\n",
    "print(\"For 2017, the lowest open price is %s and the highest open price is %s.\" % (fltprice_open_low, fltprice_open_high))"
   ]
  },
  {
   "cell_type": "code",
   "execution_count": 8,
   "metadata": {},
   "outputs": [
    {
     "name": "stdout",
     "output_type": "stream",
     "text": [
      "For 2017, the largest daily intraday change  was 2.81.\n"
     ]
    }
   ],
   "source": [
    "# 4. What was the largest change in any one day (based on High and Low price)?\n",
    "# Loop through the dates, taking the difference between the high and the low price.\n",
    "lstprices_dailychange = [lstdate[2] - lstdate[3] for lstdate in lststock_prices if isinstance(lstdate[1], float)]\n",
    "print(\"For 2017, the largest daily intraday change  was %s.\" % round(max(lstprices_dailychange), 2))"
   ]
  },
  {
   "cell_type": "code",
   "execution_count": 9,
   "metadata": {},
   "outputs": [
    {
     "name": "stdout",
     "output_type": "stream",
     "text": [
      "For 2017, the largest change between two days -2.56.\n"
     ]
    }
   ],
   "source": [
    "# 5. What was the largest change between any two days (based on Closing Price)?\n",
    "# Calculate between two none None closing prices since the change seems to be None in many cases.\n",
    "fltprice_prev = 0\n",
    "lstprice_change = []\n",
    "# Loop through dates so that the dates are in chronological order rather than reverse chronological order\n",
    "for lstdate in lststock_prices[::-1]:\n",
    "    if isinstance(lstdate[1], float):\n",
    "        lstprice_change.append(lstdate[4] - fltprice_prev)\n",
    "        fltprice_prev = lstdate[4]\n",
    "# Remove first index point since it the question is for 2017 and the first date isn't comparing against prev close price.\n",
    "lstprice_change.pop(0)\n",
    "# Check if the largest decrease is less than or greater than the largest increase.\n",
    "fltprice_change_dec = min(lstprice_change)\n",
    "fltprice_change_inc = max(lstprice_change)\n",
    "if abs(fltprice_change_dec) > fltprice_change_inc:\n",
    "    print(\"For 2017, the largest change between two days %s.\" % round(fltprice_change_dec, 2))\n",
    "else:\n",
    "    print(\"For 2017, the largest change between two days %s.\" % round(fltprice_change_inc, 2))"
   ]
  },
  {
   "cell_type": "code",
   "execution_count": 10,
   "metadata": {},
   "outputs": [
    {
     "name": "stdout",
     "output_type": "stream",
     "text": [
      "For 2017, the average trading volume is 89141.\n"
     ]
    }
   ],
   "source": [
    "# 6. What was the average daily trading volume during this year?\n",
    "# Loop through the dates, checking if is float.\n",
    "lsttrading_volume = [lstdate[6] for lstdate in lststock_prices if isinstance(lstdate[1], float)]\n",
    "# Calculate the average.\n",
    "fltaverage_volume = sum(lsttrading_volume)/len(lsttrading_volume)\n",
    "print(\"For 2017, the average trading volume is %s.\" % round(fltaverage_volume))"
   ]
  },
  {
   "cell_type": "code",
   "execution_count": 11,
   "metadata": {},
   "outputs": [
    {
     "name": "stdout",
     "output_type": "stream",
     "text": [
      "For 2017, the median trading volume is 74723.5.\n"
     ]
    }
   ],
   "source": [
    "# 7. (Optional) What was the median trading volume during this year.\n",
    "# Median function for lists.\n",
    "def median(lstdata):\n",
    "    # Sort list and then find length.\n",
    "    lstsorted = sorted(lstdata)\n",
    "    intlength = len(lstsorted)\n",
    "    # Depending on whether there are even or odd number of elements, choose the appropriate index or average the two closest.\n",
    "    if (intlength % 2) == 0:\n",
    "        return (lstsorted[(intlength//2)-1] + lstsorted[(intlength)//2])/2\n",
    "    else:\n",
    "        return lstsorted[(intlength//2)]   \n",
    "print(\"For 2017, the median trading volume is %s.\" % median(lsttrading_volume))"
   ]
  },
  {
   "cell_type": "code",
   "execution_count": null,
   "metadata": {
    "collapsed": true
   },
   "outputs": [],
   "source": []
  },
  {
   "cell_type": "code",
   "execution_count": null,
   "metadata": {
    "collapsed": true
   },
   "outputs": [],
   "source": []
  }
 ],
 "metadata": {
  "kernelspec": {
   "display_name": "Python 3",
   "language": "python",
   "name": "python3"
  },
  "language_info": {
   "codemirror_mode": {
    "name": "ipython",
    "version": 3
   },
   "file_extension": ".py",
   "mimetype": "text/x-python",
   "name": "python",
   "nbconvert_exporter": "python",
   "pygments_lexer": "ipython3",
   "version": "3.6.2"
  }
 },
 "nbformat": 4,
 "nbformat_minor": 2
}
