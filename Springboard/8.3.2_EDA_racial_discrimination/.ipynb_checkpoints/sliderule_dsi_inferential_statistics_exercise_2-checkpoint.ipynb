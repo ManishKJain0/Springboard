{
 "cells": [
  {
   "cell_type": "markdown",
   "metadata": {},
   "source": [
    "# Examining Racial Discrimination in the US Job Market\n",
    "\n",
    "### Background\n",
    "Racial discrimination continues to be pervasive in cultures throughout the world. Researchers examined the level of racial discrimination in the United States labor market by randomly assigning identical résumés to black-sounding or white-sounding names and observing the impact on requests for interviews from employers.\n",
    "\n",
    "### Data\n",
    "In the dataset provided, each row represents a resume. The 'race' column has two values, 'b' and 'w', indicating black-sounding and white-sounding. The column 'call' has two values, 1 and 0, indicating whether the resume received a call from employers or not.\n",
    "\n",
    "Note that the 'b' and 'w' values in race are assigned randomly to the resumes when presented to the employer."
   ]
  },
  {
   "cell_type": "markdown",
   "metadata": {},
   "source": [
    "### Exercises\n",
    "You will perform a statistical analysis to establish whether race has a significant impact on the rate of callbacks for resumes.\n",
    "\n",
    "Answer the following questions **in this notebook below and submit to your Github account**. \n",
    "\n",
    "   1. What test is appropriate for this problem? Does CLT apply?\n",
    "   2. What are the null and alternate hypotheses?\n",
    "   3. Compute margin of error, confidence interval, and p-value. Try using both the bootstrapping and the frequentist statistical approaches.\n",
    "   4. Write a story describing the statistical significance in the context or the original problem.\n",
    "   5. Does your analysis mean that race/name is the most important factor in callback success? Why or why not? If not, how would you amend your analysis?\n",
    "\n",
    "You can include written notes in notebook cells using Markdown: \n",
    "   - In the control panel at the top, choose Cell > Cell Type > Markdown\n",
    "   - Markdown syntax: http://nestacms.com/docs/creating-content/markdown-cheat-sheet\n",
    "\n",
    "#### Resources\n",
    "+ Experiment information and data source: http://www.povertyactionlab.org/evaluation/discrimination-job-market-united-states\n",
    "+ Scipy statistical methods: http://docs.scipy.org/doc/scipy/reference/stats.html \n",
    "+ Markdown syntax: http://nestacms.com/docs/creating-content/markdown-cheat-sheet\n",
    "+ Formulas for the Bernoulli distribution: https://en.wikipedia.org/wiki/Bernoulli_distribution"
   ]
  },
  {
   "cell_type": "code",
   "execution_count": 1,
   "metadata": {},
   "outputs": [],
   "source": [
    "import pandas as pd\n",
    "import numpy as np\n",
    "import matplotlib.pyplot as plt\n",
    "from scipy import stats"
   ]
  },
  {
   "cell_type": "code",
   "execution_count": 2,
   "metadata": {},
   "outputs": [],
   "source": [
    "data = pd.io.stata.read_stata('data/us_job_market_discrimination.dta')"
   ]
  },
  {
   "cell_type": "code",
   "execution_count": 3,
   "metadata": {},
   "outputs": [
    {
     "name": "stdout",
     "output_type": "stream",
     "text": [
      "Black: 157.0\n",
      "White: 235.0\n"
     ]
    }
   ],
   "source": [
    "# number of callbacks for black-sounding names\n",
    "print(\"Black:\", sum(data[data.race=='b'].call))\n",
    "# number of callbacks for white-sounding names\n",
    "print(\"White:\", sum(data[data.race=='w'].call))"
   ]
  },
  {
   "cell_type": "code",
   "execution_count": 4,
   "metadata": {},
   "outputs": [
    {
     "data": {
      "text/html": [
       "<div>\n",
       "<style scoped>\n",
       "    .dataframe tbody tr th:only-of-type {\n",
       "        vertical-align: middle;\n",
       "    }\n",
       "\n",
       "    .dataframe tbody tr th {\n",
       "        vertical-align: top;\n",
       "    }\n",
       "\n",
       "    .dataframe thead th {\n",
       "        text-align: right;\n",
       "    }\n",
       "</style>\n",
       "<table border=\"1\" class=\"dataframe\">\n",
       "  <thead>\n",
       "    <tr style=\"text-align: right;\">\n",
       "      <th></th>\n",
       "      <th>id</th>\n",
       "      <th>ad</th>\n",
       "      <th>education</th>\n",
       "      <th>ofjobs</th>\n",
       "      <th>yearsexp</th>\n",
       "      <th>honors</th>\n",
       "      <th>volunteer</th>\n",
       "      <th>military</th>\n",
       "      <th>empholes</th>\n",
       "      <th>occupspecific</th>\n",
       "      <th>...</th>\n",
       "      <th>compreq</th>\n",
       "      <th>orgreq</th>\n",
       "      <th>manuf</th>\n",
       "      <th>transcom</th>\n",
       "      <th>bankreal</th>\n",
       "      <th>trade</th>\n",
       "      <th>busservice</th>\n",
       "      <th>othservice</th>\n",
       "      <th>missind</th>\n",
       "      <th>ownership</th>\n",
       "    </tr>\n",
       "  </thead>\n",
       "  <tbody>\n",
       "    <tr>\n",
       "      <th>0</th>\n",
       "      <td>b</td>\n",
       "      <td>1</td>\n",
       "      <td>4</td>\n",
       "      <td>2</td>\n",
       "      <td>6</td>\n",
       "      <td>0</td>\n",
       "      <td>0</td>\n",
       "      <td>0</td>\n",
       "      <td>1</td>\n",
       "      <td>17</td>\n",
       "      <td>...</td>\n",
       "      <td>1.0</td>\n",
       "      <td>0.0</td>\n",
       "      <td>1.0</td>\n",
       "      <td>0.0</td>\n",
       "      <td>0.0</td>\n",
       "      <td>0.0</td>\n",
       "      <td>0.0</td>\n",
       "      <td>0.0</td>\n",
       "      <td>0.0</td>\n",
       "      <td></td>\n",
       "    </tr>\n",
       "    <tr>\n",
       "      <th>1</th>\n",
       "      <td>b</td>\n",
       "      <td>1</td>\n",
       "      <td>3</td>\n",
       "      <td>3</td>\n",
       "      <td>6</td>\n",
       "      <td>0</td>\n",
       "      <td>1</td>\n",
       "      <td>1</td>\n",
       "      <td>0</td>\n",
       "      <td>316</td>\n",
       "      <td>...</td>\n",
       "      <td>1.0</td>\n",
       "      <td>0.0</td>\n",
       "      <td>1.0</td>\n",
       "      <td>0.0</td>\n",
       "      <td>0.0</td>\n",
       "      <td>0.0</td>\n",
       "      <td>0.0</td>\n",
       "      <td>0.0</td>\n",
       "      <td>0.0</td>\n",
       "      <td></td>\n",
       "    </tr>\n",
       "    <tr>\n",
       "      <th>2</th>\n",
       "      <td>b</td>\n",
       "      <td>1</td>\n",
       "      <td>4</td>\n",
       "      <td>1</td>\n",
       "      <td>6</td>\n",
       "      <td>0</td>\n",
       "      <td>0</td>\n",
       "      <td>0</td>\n",
       "      <td>0</td>\n",
       "      <td>19</td>\n",
       "      <td>...</td>\n",
       "      <td>1.0</td>\n",
       "      <td>0.0</td>\n",
       "      <td>1.0</td>\n",
       "      <td>0.0</td>\n",
       "      <td>0.0</td>\n",
       "      <td>0.0</td>\n",
       "      <td>0.0</td>\n",
       "      <td>0.0</td>\n",
       "      <td>0.0</td>\n",
       "      <td></td>\n",
       "    </tr>\n",
       "    <tr>\n",
       "      <th>3</th>\n",
       "      <td>b</td>\n",
       "      <td>1</td>\n",
       "      <td>3</td>\n",
       "      <td>4</td>\n",
       "      <td>6</td>\n",
       "      <td>0</td>\n",
       "      <td>1</td>\n",
       "      <td>0</td>\n",
       "      <td>1</td>\n",
       "      <td>313</td>\n",
       "      <td>...</td>\n",
       "      <td>1.0</td>\n",
       "      <td>0.0</td>\n",
       "      <td>1.0</td>\n",
       "      <td>0.0</td>\n",
       "      <td>0.0</td>\n",
       "      <td>0.0</td>\n",
       "      <td>0.0</td>\n",
       "      <td>0.0</td>\n",
       "      <td>0.0</td>\n",
       "      <td></td>\n",
       "    </tr>\n",
       "    <tr>\n",
       "      <th>4</th>\n",
       "      <td>b</td>\n",
       "      <td>1</td>\n",
       "      <td>3</td>\n",
       "      <td>3</td>\n",
       "      <td>22</td>\n",
       "      <td>0</td>\n",
       "      <td>0</td>\n",
       "      <td>0</td>\n",
       "      <td>0</td>\n",
       "      <td>313</td>\n",
       "      <td>...</td>\n",
       "      <td>1.0</td>\n",
       "      <td>1.0</td>\n",
       "      <td>0.0</td>\n",
       "      <td>0.0</td>\n",
       "      <td>0.0</td>\n",
       "      <td>0.0</td>\n",
       "      <td>0.0</td>\n",
       "      <td>1.0</td>\n",
       "      <td>0.0</td>\n",
       "      <td>Nonprofit</td>\n",
       "    </tr>\n",
       "  </tbody>\n",
       "</table>\n",
       "<p>5 rows × 65 columns</p>\n",
       "</div>"
      ],
      "text/plain": [
       "  id ad  education  ofjobs  yearsexp  honors  volunteer  military  empholes  \\\n",
       "0  b  1          4       2         6       0          0         0         1   \n",
       "1  b  1          3       3         6       0          1         1         0   \n",
       "2  b  1          4       1         6       0          0         0         0   \n",
       "3  b  1          3       4         6       0          1         0         1   \n",
       "4  b  1          3       3        22       0          0         0         0   \n",
       "\n",
       "   occupspecific    ...      compreq  orgreq  manuf  transcom  bankreal trade  \\\n",
       "0             17    ...          1.0     0.0    1.0       0.0       0.0   0.0   \n",
       "1            316    ...          1.0     0.0    1.0       0.0       0.0   0.0   \n",
       "2             19    ...          1.0     0.0    1.0       0.0       0.0   0.0   \n",
       "3            313    ...          1.0     0.0    1.0       0.0       0.0   0.0   \n",
       "4            313    ...          1.0     1.0    0.0       0.0       0.0   0.0   \n",
       "\n",
       "  busservice othservice  missind  ownership  \n",
       "0        0.0        0.0      0.0             \n",
       "1        0.0        0.0      0.0             \n",
       "2        0.0        0.0      0.0             \n",
       "3        0.0        0.0      0.0             \n",
       "4        0.0        1.0      0.0  Nonprofit  \n",
       "\n",
       "[5 rows x 65 columns]"
      ]
     },
     "execution_count": 4,
     "metadata": {},
     "output_type": "execute_result"
    }
   ],
   "source": [
    "data.head()"
   ]
  },
  {
   "cell_type": "markdown",
   "metadata": {
    "collapsed": true
   },
   "source": [
    "<div class=\"span5 alert alert-success\">\n",
    "<p>Your answers to Q1 and Q2 here</p>\n",
    "</div>"
   ]
  },
  {
   "cell_type": "code",
   "execution_count": 5,
   "metadata": {},
   "outputs": [],
   "source": [
    "w = data[data.race=='w']\n",
    "b = data[data.race=='b']"
   ]
  },
  {
   "cell_type": "markdown",
   "metadata": {
    "collapsed": true
   },
   "source": [
    "Q1. It is best to find the estimated mean (probability of a callback) using the bootstrap method. This will allow us to use the CLT to use that mean to help identify how different the two sub population means  are.\n",
    "After that, we can use the two sample z test since the population is large enough to see if the difference in means is statistically significant.\n",
    "We could also use a chi square fitness test here, since this is a categorical test rather than one for a continuous variable.\n",
    "\n",
    "Q2. The hypotheses are:\n",
    "\n",
    "**Null hypothesis: The call back rate is the same for both populations.**\n",
    "\n",
    "*Black call back rate == White call back rate*\n",
    "\n",
    "**Alternate hypothesis: The call back rate is different for black and white individuals.**\n",
    "\n",
    "*Black call back rate != White call back rate*\n",
    "\n",
    "*Alpha == 0.05*"
   ]
  },
  {
   "cell_type": "code",
   "execution_count": 6,
   "metadata": {},
   "outputs": [],
   "source": [
    "def bootstrap_replicate(data, func):\n",
    "    return func(np.random.choice(data, size=len(data)))\n",
    "\n",
    "def draw_bs_reps(data, func, size=1):\n",
    "    \"\"\"Draw bootstrap replicates.\"\"\"\n",
    "    # Initialize array of replicates: bs_replicates\n",
    "    bs_replicates = np.empty(size)\n",
    "\n",
    "    # Generate replicates\n",
    "    for i in range(size):\n",
    "        bs_replicates[i] = bootstrap_replicate(data, func)\n",
    "\n",
    "    return bs_replicates\n",
    "\n",
    "# Create prob calculation function\n",
    "def prob_calc(data):\n",
    "    return np.sum(data) / len(data)\n",
    "\n",
    "def var_calc(prob, count):\n",
    "    return prob * (1 - prob) / len(data)\n",
    "\n",
    "# Create calculation function\n",
    "def diff_from_accepted(data, accepted):\n",
    "    '''Calculate the difference of the mean from the accepted value.'''\n",
    "    \n",
    "    return np.mean(data) - accepted\n",
    "       \n",
    "def p_results_twotail(p_val, alpha_val):\n",
    "    print('The p-value is %s.' % p_val)\n",
    "    if p_val >= alpha_val/2:\n",
    "        print('The p-value is greater than the level of significance (%f).' % alpha_val)\n",
    "        print('That means we can not reject the null hypothesis.')\n",
    "    elif p_val <= -1 * alpha_val/2:\n",
    "        print('The p-value is less than the level of significance (%f).' % alpha_val)\n",
    "        print('That means we can not reject the null hypothesis.')\n",
    "    else:\n",
    "        print('The p-value is less than the level of significance (%f).' % alpha_val)\n",
    "        print('That means we should reject the null hypothesis.')\n",
    "\n",
    "def plot_hist_normal(data, alpha, color):\n",
    "    count, bins, ignored = plt.hist(data, 50, density=True, alpha=alpha, color=color)"
   ]
  },
  {
   "cell_type": "code",
   "execution_count": 7,
   "metadata": {},
   "outputs": [
    {
     "name": "stdout",
     "output_type": "stream",
     "text": [
      "0.2720546271876693\n"
     ]
    },
    {
     "data": {
      "image/png": "[encoded data removed]",
      "text/plain": [
       "<Figure size 432x288 with 1 Axes>"
      ]
     },
     "metadata": {
      "needs_background": "light"
     },
     "output_type": "display_data"
    }
   ],
   "source": [
    "np.random.seed(4678)\n",
    "alpha = 0.05\n",
    "\n",
    "# Calculate the sample mean and standard deviation.\n",
    "data_call = data.call\n",
    "blk_call = b.call\n",
    "wht_call = w.call\n",
    "\n",
    "mu = prob_calc(data_call) # prob of true (p)\n",
    "mu_inverse = 1 - mu # prob of false (1-p)\n",
    "sigma = np.sqrt (mu * mu_inverse) # standard deviation\n",
    "print(sigma)\n",
    "# Bootstrap the populations of the total population and the individual segments.\n",
    "pop_dist = draw_bs_reps(data_call, prob_calc, 10000)\n",
    "blk_dist = draw_bs_reps(blk_call, prob_calc, 10000)\n",
    "wht_dist = draw_bs_reps(wht_call, prob_calc, 10000)\n",
    "\n",
    "# See how the distribution would look graphically\n",
    "plot_hist_normal(pop_dist, alpha=0.3, color='red')\n",
    "plot_hist_normal(blk_dist, alpha=0.3, color='blue')\n",
    "plot_hist_normal(wht_dist, alpha=0.3, color='green')\n",
    "    \n",
    "plt.show()"
   ]
  },
  {
   "cell_type": "markdown",
   "metadata": {
    "collapsed": true
   },
   "source": [
    "<div class=\"span5 alert alert-success\">\n",
    "<p> Your solution to Q3 here </p>\n",
    "</div>"
   ]
  },
  {
   "cell_type": "markdown",
   "metadata": {},
   "source": [
    "Compute margin of error, confidence interval, and p-value. Try using both the bootstrapping and the frequentist statistical approaches."
   ]
  },
  {
   "cell_type": "code",
   "execution_count": 8,
   "metadata": {},
   "outputs": [
    {
     "name": "stdout",
     "output_type": "stream",
     "text": [
      "Mean Prob:  0.080.\n",
      "Margin of error:  0.005332173.\n",
      "95 percent Conf Interval of the probability:  0.075 and 0.085825.\n"
     ]
    }
   ],
   "source": [
    "z_score = stats.norm.ppf(.975)\n",
    "margin_of_error = z_score * sigma / np.sqrt(len(pop_dist))\n",
    "lower_quant = mu - z_score * sigma / np.sqrt(len(pop_dist))\n",
    "upper_quant = mu + z_score * sigma / np.sqrt(len(pop_dist))\n",
    "print('Mean Prob:  %0.3f.' % mu)\n",
    "print('Margin of error:  %0.9f.' % margin_of_error)\n",
    "print('95 percent Conf Interval of the probability:  %0.3f and %3f.' % (lower_quant, upper_quant))"
   ]
  },
  {
   "cell_type": "markdown",
   "metadata": {},
   "source": [
    "Using the bootstrap method, we get the following:\n"
   ]
  },
  {
   "cell_type": "code",
   "execution_count": 9,
   "metadata": {
    "scrolled": true
   },
   "outputs": [
    {
     "name": "stdout",
     "output_type": "stream",
     "text": [
      "Conf Interval:  0.073 and 0.088090.\n"
     ]
    }
   ],
   "source": [
    "lower_quant, upper_quant = np.percentile(pop_dist, [2.5, 97.5])\n",
    "print('Conf Interval:  %0.3f and %3f.' % (lower_quant, upper_quant))"
   ]
  },
  {
   "cell_type": "markdown",
   "metadata": {},
   "source": [
    "Calculate the two sample z test statistics. Given the number of observations, we can use the z test rather than t test."
   ]
  },
  {
   "cell_type": "code",
   "execution_count": 10,
   "metadata": {},
   "outputs": [
    {
     "name": "stdout",
     "output_type": "stream",
     "text": [
      "The p-value is 1.1925740676635772e-68.\n",
      "The p-value is less than the level of significance (0.050000).\n",
      "That means we should reject the null hypothesis.\n"
     ]
    }
   ],
   "source": [
    "# Calc stat using observed samples\n",
    "blk_mu = prob_calc(blk_call)\n",
    "blk_var = var_calc(blk_mu, len(blk_call))\n",
    "wht_mu = prob_calc(wht_call)\n",
    "wht_var = var_calc(wht_mu, len(wht_call))\n",
    "z_twosample = blk_mu - wht_mu / np.sqrt(blk_var + wht_var)\n",
    "\n",
    "p_value = stats.norm.cdf(z_twosample)\n",
    "p_results_twotail(p_value, alpha)"
   ]
  },
  {
   "cell_type": "markdown",
   "metadata": {},
   "source": [
    "Using the bootstrap method, we get the following:"
   ]
  },
  {
   "cell_type": "code",
   "execution_count": 11,
   "metadata": {},
   "outputs": [
    {
     "name": "stdout",
     "output_type": "stream",
     "text": [
      "The p-value is 1.170816306346385e-68.\n",
      "The p-value is less than the level of significance (0.050000).\n",
      "That means we should reject the null hypothesis.\n"
     ]
    }
   ],
   "source": [
    "# Calc stat using bootstrapped samples\n",
    "blk_mu = np.mean(blk_dist)\n",
    "blk_var = var_calc(blk_mu, len(blk_call))\n",
    "wht_mu = np.mean(wht_dist)\n",
    "wht_var = var_calc(wht_mu, len(wht_call))\n",
    "z_twosample = blk_mu - wht_mu / np.sqrt(blk_var + wht_var)\n",
    "\n",
    "p_value = stats.norm.cdf(z_twosample)\n",
    "p_results_twotail(p_value, alpha)"
   ]
  },
  {
   "cell_type": "markdown",
   "metadata": {},
   "source": [
    "<div class=\"span5 alert alert-success\">\n",
    "<p> Your answers to Q4 and Q5 here </p>\n",
    "</div>"
   ]
  },
  {
   "cell_type": "markdown",
   "metadata": {
    "collapsed": true
   },
   "source": [
    "<B>Write a story describing the statistical significance in the context or the original problem.\n",
    "Does your analysis mean that race/name is the most important factor in callback success? Why or why not? If not, how would you amend your analysis?</B>"
   ]
  },
  {
   "cell_type": "markdown",
   "metadata": {},
   "source": [
    "Based on the study's data, racial discrimination is still a factor in the probability of obtaining a job interview.  Both the graphical depictions and the statistical analyses indicate a significant difference in callback rate for white and black sounding names. The impact of this discrimination extends to the overall prospects of landing a job as well, as well as continuing economic prosperity.<BR>\n",
    "As graphically depicted above, the two populations barely overlap in terms of callback rate. But if one were to just look at the two populations combined, as many people in the world do, no one would notice a thing, as it's hard to distinguish the impact on one population versus another. <BR>\n",
    "This does not mean that race/name is the most important factor in call back success. Obviously if one is not qualified at all, they would not even be considered at all. And there are probably other factors at play as well when one is considered for a position, such as age, gender, geographical location, etc. But race IS a factor in the RATE of call back as shown in the study. The level of significance chosen was 5%, but even if a much higher level was chosen, the analysis would have demonstrated a statistically significant difference.<BR>\n",
    "This type of study should be repeated to determine impacts on other races, gender, and age to see what impact those factors have on the call-back rate. Another additional factor of interest would be the race of the person or people deciding whether someone should be brought in for an interview and whether a bias is shown for one's own race.\n"
   ]
  },
  {
   "cell_type": "code",
   "execution_count": null,
   "metadata": {},
   "outputs": [],
   "source": []
  }
 ],
 "metadata": {
  "kernelspec": {
   "display_name": "Python 3",
   "language": "python",
   "name": "python3"
  },
  "language_info": {
   "codemirror_mode": {
    "name": "ipython",
    "version": 3
   },
   "file_extension": ".py",
   "mimetype": "text/x-python",
   "name": "python",
   "nbconvert_exporter": "python",
   "pygments_lexer": "ipython3",
   "version": "3.7.1"
  }
 },
 "nbformat": 4,
 "nbformat_minor": 1
}
